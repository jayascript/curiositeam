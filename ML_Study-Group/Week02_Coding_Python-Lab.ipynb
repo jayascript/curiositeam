{
 "cells": [
  {
   "cell_type": "markdown",
   "metadata": {},
   "source": [
    "# Week 02 Coding: Numpy, Pandas, and MatPlotLib (Lab)\n",
    "\n",
    "## BEENOS Inc. Machine Learning Study Group\n",
    "\n",
    "In the second week, you'll practice using `numpy`, `pandas` and `matplotlib`."
   ]
  },
  {
   "cell_type": "markdown",
   "metadata": {},
   "source": [
    "## Part 0: Numpy\n",
    "\n",
    "NumPy is short for Numerical Python, and it is the most important package one needs when working with data in Python.\n",
    "\n",
    "Other popular packages, like `pandas`, depend on the versatile functionality provided by numpy.\n",
    "\n",
    "The core benefit to using `numpy` is access to its `ndarray` objects. `ndarray` is short for **n-dimensional arrays**, which allow us to perform vectorized mathematical operations and data manipulation on collections of data.\n",
    "\n",
    "For example, trying to add 2 to every element of a list will raise an error:"
   ]
  },
  {
   "cell_type": "code",
   "execution_count": 1,
   "metadata": {},
   "outputs": [
    {
     "ename": "TypeError",
     "evalue": "can only concatenate list (not \"int\") to list",
     "output_type": "error",
     "traceback": [
      "\u001b[0;31m---------------------------------------------------------------------------\u001b[0m",
      "\u001b[0;31mTypeError\u001b[0m                                 Traceback (most recent call last)",
      "\u001b[0;32m<ipython-input-1-e9c8868875dc>\u001b[0m in \u001b[0;36m<module>\u001b[0;34m\u001b[0m\n\u001b[1;32m      3\u001b[0m \u001b[0mmylist\u001b[0m \u001b[0;34m=\u001b[0m \u001b[0;34m[\u001b[0m\u001b[0;36m1\u001b[0m\u001b[0;34m,\u001b[0m \u001b[0;36m2\u001b[0m\u001b[0;34m,\u001b[0m \u001b[0;36m3\u001b[0m\u001b[0;34m,\u001b[0m \u001b[0;36m4\u001b[0m\u001b[0;34m,\u001b[0m \u001b[0;36m5\u001b[0m\u001b[0;34m]\u001b[0m\u001b[0;34m\u001b[0m\u001b[0;34m\u001b[0m\u001b[0m\n\u001b[1;32m      4\u001b[0m \u001b[0;34m\u001b[0m\u001b[0m\n\u001b[0;32m----> 5\u001b[0;31m \u001b[0mmylist\u001b[0m \u001b[0;34m+\u001b[0m \u001b[0;36m2\u001b[0m\u001b[0;34m\u001b[0m\u001b[0;34m\u001b[0m\u001b[0m\n\u001b[0m",
      "\u001b[0;31mTypeError\u001b[0m: can only concatenate list (not \"int\") to list"
     ]
    }
   ],
   "source": [
    "# add 2 to every element of a `list`\n",
    "\n",
    "mylist = [1, 2, 3, 4, 5]\n",
    "\n",
    "mylist + 2"
   ]
  },
  {
   "cell_type": "markdown",
   "metadata": {},
   "source": [
    "But such an operation is trivial for `numpy`:"
   ]
  },
  {
   "cell_type": "code",
   "execution_count": 2,
   "metadata": {},
   "outputs": [
    {
     "data": {
      "text/plain": [
       "array([3, 4, 5, 6, 7])"
      ]
     },
     "execution_count": 2,
     "metadata": {},
     "output_type": "execute_result"
    }
   ],
   "source": [
    "# add 2 to every element of an `ndarray`\n",
    "\n",
    "import numpy as np\n",
    "\n",
    "myarray = np.array([1,2,3,4,5])\n",
    "\n",
    "myarray + 2"
   ]
  },
  {
   "cell_type": "markdown",
   "metadata": {},
   "source": [
    "We can also use `numpy` to create matrices from lists of lists:"
   ]
  },
  {
   "cell_type": "code",
   "execution_count": 3,
   "metadata": {},
   "outputs": [
    {
     "data": {
      "text/plain": [
       "array([[1, 2, 3],\n",
       "       [4, 5, 6],\n",
       "       [7, 8, 9]])"
      ]
     },
     "execution_count": 3,
     "metadata": {},
     "output_type": "execute_result"
    }
   ],
   "source": [
    "# create a 3x3 matrix from a list of list\n",
    "\n",
    "morelists = [[1,2,3], [4,5,6], [7,8,9]]\n",
    "\n",
    "mymatrix = np.array(morelists)\n",
    "\n",
    "mymatrix"
   ]
  },
  {
   "cell_type": "markdown",
   "metadata": {},
   "source": [
    "### `numpy` Practice\n",
    "\n",
    "For the first part of this lab, you'll be completing short exercises to get you used to working with `numpy` arrays.\n",
    "\n",
    "The exercises are taken from [Machine Learning Plus](https://www.machinelearningplus.com/python/101-numpy-exercises-python/).\n",
    "\n",
    "Feel free to skip around to exercises that challenge you.\n",
    "\n",
    "Good luck!"
   ]
  },
  {
   "cell_type": "markdown",
   "metadata": {},
   "source": [
    "**Q.0** Import numpy as `np` and print the version.\n",
    "\n",
    "*Sample Output*:\n",
    "\n",
    "> `1.15.4`"
   ]
  },
  {
   "cell_type": "code",
   "execution_count": null,
   "metadata": {},
   "outputs": [],
   "source": [
    "# INSERT CODE HERE"
   ]
  },
  {
   "cell_type": "markdown",
   "metadata": {},
   "source": [
    "**Q.1** Use `np.array` to create a 1D array of numbers from 0 to 9.\n",
    "\n",
    "*Output:*\n",
    "\n",
    "> array([0, 1, 2, 3, 4, 5, 6, 7, 8, 9])"
   ]
  },
  {
   "cell_type": "code",
   "execution_count": null,
   "metadata": {},
   "outputs": [],
   "source": [
    "# INSERT CODE HERE"
   ]
  },
  {
   "cell_type": "markdown",
   "metadata": {},
   "source": [
    "**Q.2** Extract all odd numbers from `arr`.\n",
    "\n",
    "*Output:*\n",
    "\n",
    "> array([1, 3, 5, 7, 9])"
   ]
  },
  {
   "cell_type": "code",
   "execution_count": null,
   "metadata": {},
   "outputs": [],
   "source": [
    "arr = np.array([0, 1, 2, 3, 4, 5, 6, 7, 8, 9])\n",
    "\n",
    "# INSERT CODE HERE"
   ]
  },
  {
   "cell_type": "markdown",
   "metadata": {},
   "source": [
    "**Q.3** Use `reshape` to convert a 1D array to a 2D array with two rows.\n",
    "\n",
    "*Output:*\n",
    "\n",
    ">     array([[0, 1, 2, 3, 4],\n",
    ">            [5, 6, 7, 8, 9]])"
   ]
  },
  {
   "cell_type": "code",
   "execution_count": null,
   "metadata": {
    "scrolled": true
   },
   "outputs": [],
   "source": [
    "arr = np.arange(10)\n",
    "\n",
    "# INSERT CODE HERE"
   ]
  },
  {
   "cell_type": "markdown",
   "metadata": {},
   "source": [
    "**Q.4** Use `np.full` to create an nD boolean array. Choose your size and `True` or `False`.\n",
    "\n",
    "*Sample Output:*\n",
    "\n",
    ">     array([[ True,  True],\n",
    ">            [ True,  True],\n",
    ">            [ True,  True]])"
   ]
  },
  {
   "cell_type": "code",
   "execution_count": null,
   "metadata": {},
   "outputs": [],
   "source": [
    "# INSERT CODE HERE"
   ]
  },
  {
   "cell_type": "markdown",
   "metadata": {},
   "source": [
    "**Q.5** Use `np.where` to replace all odd numbers in `arr` with `-1`, but **DO NOT** change `arr`.\n",
    "\n",
    "*Sample Output*:\n",
    "\n",
    "> array([ 0, -1,  2, -1,  4, -1,  6, -1,  8, -1]) `# newarray`\n",
    "\n",
    "> array([0, 1, 2, 3, 4, 5, 6, 7, 8, 9]) `# arr`"
   ]
  },
  {
   "cell_type": "code",
   "execution_count": null,
   "metadata": {},
   "outputs": [],
   "source": [
    "arr = np.arange(10)\n",
    "\n",
    "# INSERT CODE HERE\n",
    "\n",
    "print(arr, newarray)"
   ]
  },
  {
   "cell_type": "markdown",
   "metadata": {},
   "source": [
    "**Q.6** Create the following pattern. **Use numpy functions.**\n",
    "\n",
    "*Output:*\n",
    "\n",
    "> array([1, 1, 1, 2, 2, 2, 3, 3, 3, 1, 2, 3, 1, 2, 3, 1, 2, 3])"
   ]
  },
  {
   "cell_type": "code",
   "execution_count": null,
   "metadata": {},
   "outputs": [],
   "source": [
    "a = np.array([1,2,3])\n",
    "\n",
    "# INSERT CODE HERE"
   ]
  },
  {
   "cell_type": "markdown",
   "metadata": {},
   "source": [
    "**Q.7** Get all common items in both `a` and `b`.\n",
    "\n",
    "*Output:*\n",
    "\n",
    "> array([2,4])"
   ]
  },
  {
   "cell_type": "code",
   "execution_count": null,
   "metadata": {},
   "outputs": [],
   "source": [
    "a = np.array([1,2,3,2,3,4,3,4,5,6])\n",
    "b = np.array([7,2,10,2,7,4,9,4,9,8])\n",
    "\n",
    "# INSERT CODE HERE"
   ]
  },
  {
   "cell_type": "markdown",
   "metadata": {},
   "source": [
    "**Q.8** Remove from `a` all items in `b`.\n",
    "\n",
    "*Output:*\n",
    "\n",
    "> array([0, 1, 2, 4])"
   ]
  },
  {
   "cell_type": "code",
   "execution_count": null,
   "metadata": {},
   "outputs": [],
   "source": [
    "a = np.array([0,1,2,3,4,5])\n",
    "b = np.array([3,5,6,7,8,9])\n",
    "\n",
    "# INSERT CODE HERE"
   ]
  },
  {
   "cell_type": "markdown",
   "metadata": {},
   "source": [
    "**Q.9** Create a 2D array of size 5x3 containing random numbers between 5 and 10."
   ]
  },
  {
   "cell_type": "code",
   "execution_count": null,
   "metadata": {},
   "outputs": [],
   "source": [
    "# INSERT CODE HERE"
   ]
  },
  {
   "cell_type": "markdown",
   "metadata": {},
   "source": [
    "**Q.10** Use `np.genfromtxt` to import the Iris flowers dataset from the given url. Be sure to pass a *delimiter* to identify how the data is separated. (You'll need to examine the data yourself to see how this is done.)\n",
    "\n",
    "*Hint: If your last column shows `nan` values, trying specifying an `object` data type.*\n",
    "\n",
    "*Output:*\n",
    "\n",
    "> `# Print the first row`\n",
    "\n",
    "> array([[b'5.1', b'3.5', b'1.4', b'0.2', b'Iris-setosa']], dtype=object)"
   ]
  },
  {
   "cell_type": "code",
   "execution_count": null,
   "metadata": {},
   "outputs": [],
   "source": [
    "url = 'https://archive.ics.uci.edu/ml/machine-learning-databases/iris/iris.data'\n",
    "\n",
    "# INSERT CODE HERE"
   ]
  },
  {
   "cell_type": "markdown",
   "metadata": {},
   "source": [
    "## Part 1: Pandas\n",
    "\n",
    "Pandas is a Python library for manipulating and analyzing data.\n",
    "\n",
    "It provides data scientists with powerful tools for cleaning, transforming and understanding data.\n",
    "\n",
    "### `pandas` Practice\n",
    "\n",
    "For the next part of this lab, you'll be completing short exercises to get you used to working with `pandas` data structures.\n",
    "\n",
    "The exercises are taken from [Machine Learning Plus](https://www.machinelearningplus.com/python/101-pandas-exercises-python/).\n",
    "\n",
    "Feel free to skip around to exercises that challenge you.\n",
    "\n",
    "Good luck!"
   ]
  },
  {
   "cell_type": "markdown",
   "metadata": {},
   "source": [
    "**Q.0** Pandas relies on `numpy`. You should have already imported `numpy`. If not, import it and also import pandas (by convention as `pd`) and check your `pandas` version.\n",
    "\n",
    "*Sample Output*:\n",
    "\n",
    "> `0.23.4`"
   ]
  },
  {
   "cell_type": "code",
   "execution_count": null,
   "metadata": {},
   "outputs": [],
   "source": [
    "# INSERT CODE HERE"
   ]
  },
  {
   "cell_type": "markdown",
   "metadata": {},
   "source": [
    "**Q.1** Like `numpy`, `pandas` has popular structures that it is well known for. The first one is called a **Series**, which is a one-dimensional array. In laymans terms, a Series is simply a *column* of data, like one might find in an Excel spreadsheet.\n",
    "\n",
    "A Series can hold any data type and can be coerced from multiple data structures. To test this, convert each of the following data structures (a list, an array and a dictionary) into a separate **Series**.\n",
    "\n",
    "*Sample Output*:\n",
    "\n",
    "> `# Print the head of the mydict series`\n",
    "\n",
    ">     a     0\n",
    ">     b     1\n",
    ">     c     2\n",
    ">     d     3\n",
    ">     e     4\n",
    ">     dtype: int64"
   ]
  },
  {
   "cell_type": "code",
   "execution_count": null,
   "metadata": {},
   "outputs": [],
   "source": [
    "mylist = list('abcdefghijklmnopqrstuvwyxz')\n",
    "myarray = np.arange(1, 27)\n",
    "mydict = dict(zip(mylist,myarray))\n",
    "\n",
    "mylist_to_series =  # INSERT CODE HERE\n",
    "myarray_to_series = # INSERT CODE HERE\n",
    "mydict_to_series =  # INSERT CODE HERE\n",
    "\n",
    "mydict_to_series.head()"
   ]
  },
  {
   "cell_type": "markdown",
   "metadata": {},
   "source": [
    "**Q.2** Series can also be coerced into the second fundamental `pandas` data structure, the **DataFrame**. It is a two-dimensional array made up of Series. Again, in laymans terms, a DataFrame is like one spreadsheet in Excel: it contains multiple columns.\n",
    "\n",
    "Each column of a DataFrame cna hold any data type, and can be created from Series or other data structures. Let's try this by turning your `mydict` series into a `pandas` DataFrame. Use `.reset_index()` to add *both* columns to the table.\n",
    "\n",
    "*Sample Output*:\n",
    "\n",
    "> `# Print the head of the dataframe`\n",
    "\n",
    ">           index  0\n",
    ">     0     a      0\n",
    ">     1     b      1\n",
    ">     2     c      2\n",
    ">     3     d      3\n",
    ">     4     e      4"
   ]
  },
  {
   "cell_type": "code",
   "execution_count": null,
   "metadata": {},
   "outputs": [],
   "source": [
    "myseries = pd.Series(mydict)\n",
    "\n",
    "mydataframe = # INSERT CODE HERE\n",
    "\n",
    "mydataframe.head()"
   ]
  },
  {
   "cell_type": "markdown",
   "metadata": {},
   "source": [
    "**Q.3** Our new dataframe looks a bit clunky. One problem is the column names `\"index\"` and `\"0\"` don't tell us much about the data in the table.\n",
    "\n",
    "It might be easier to read if we change those names to `\"letter\"` and `\"position\"`, or even `\"number\"`. You can use `.rename()`.\n",
    "\n",
    "*Hint: Does your head show `'index'` and `'0'` still? Try using `inplace`!*\n",
    "\n",
    "*Sample Output*:\n",
    "\n",
    "> `# Print the head of the dataframe`\n",
    "\n",
    ">           letter  number\n",
    ">     0     a       1\n",
    ">     1     b       2\n",
    ">     2     c       3\n",
    ">     3     d       4\n",
    ">     4     e       5"
   ]
  },
  {
   "cell_type": "code",
   "execution_count": null,
   "metadata": {},
   "outputs": [],
   "source": [
    "#INSERT CODE HERE\n",
    "\n",
    "mydataframe.head()"
   ]
  },
  {
   "cell_type": "markdown",
   "metadata": {},
   "source": [
    "**Q.4** Alright, let's practice with a bit of real data. We'll be looking at the [Cars93](https://raw.githubusercontent.com/selva86/datasets/master/Cars93_miss.csv) dataset for a few problems.\n",
    "\n",
    "The dataset has already been loaded for you. Figure out how many rows and columns it contains.\n",
    "\n",
    "*Sample Output*:\n",
    "\n",
    "> (93, 27)"
   ]
  },
  {
   "cell_type": "code",
   "execution_count": null,
   "metadata": {},
   "outputs": [],
   "source": [
    "cars_df = pd.read_csv(\"https://raw.githubusercontent.com/selva86/datasets/master/Cars93_miss.csv\")\n",
    "\n",
    "# INSERT CODE HERE"
   ]
  },
  {
   "cell_type": "markdown",
   "metadata": {},
   "source": [
    "**Q.5** Let's get a bit more info on our dataset. First, we want to figure out the *type* of the data that exists within each column. (What are we working with? Strings? Integers? Floats? Datetime objects?)\n",
    "\n",
    "This is extremely important to know for manipulating our dataset later, because **all the data in a pandas *Series* or a DataFrame *column* must be the same**.\n",
    "\n",
    "What types are in the Cars93 dataset?\n",
    "\n",
    "*Sample Output (first 3 data types)*:\n",
    "\n",
    ">     Manufacturer    object\n",
    ">     Model           object\n",
    ">     Type            object\n",
    ">     dtype: object"
   ]
  },
  {
   "cell_type": "code",
   "execution_count": null,
   "metadata": {},
   "outputs": [],
   "source": [
    "# INSERT CODE HERE"
   ]
  },
  {
   "cell_type": "markdown",
   "metadata": {},
   "source": [
    "**Q.6** As you work with real data, you'll soon find out that the more you *know* about the dataset you're working with, the easier it is to build models and make predictions.\n",
    "\n",
    "One of the things you'll want to know is **summary statistics**: things like mean, standard deviation, maximum and minimum values, etc. Knowing these stats will help you determine whether your data needs to undergo transformation (like scaling and normalization) before modeling.\n",
    "\n",
    "Show the summary stats for this dataset now. What is each row telling you?\n",
    "\n",
    "*Sample Output*:\n",
    "\n",
    "> `# First few columns of the first rows`\n",
    "\n",
    ">               Min.Price       Price           Max.Price\n",
    ">     count     86.000000       91.000000       88.000000       ...\n",
    ">     mean      17.118605       19.616484       21.459091       ...\n",
    ">     ..."
   ]
  },
  {
   "cell_type": "code",
   "execution_count": null,
   "metadata": {
    "scrolled": true
   },
   "outputs": [],
   "source": [
    "# INSERT CODE HERE"
   ]
  },
  {
   "cell_type": "markdown",
   "metadata": {},
   "source": [
    "**Q.7** Let's use our summary statistics to learn more about our data.\n",
    "\n",
    "Find the `manufacturer`, `model` and `type` of car that has the highest `Price`. Use `.loc[]` to pull out this information.\n",
    "\n",
    "*Sample Output*:\n",
    "\n",
    ">               Manufacturer    Model     Type       Price\n",
    ">     58        Mercedes-Benz   300E      Midsize    61.9"
   ]
  },
  {
   "cell_type": "code",
   "execution_count": null,
   "metadata": {},
   "outputs": [],
   "source": [
    "# INSERT CODE HERE"
   ]
  },
  {
   "cell_type": "markdown",
   "metadata": {},
   "source": [
    "**Q.8** We want to see if our dataset has any missing values. (If it does, we may need to transform them to make the dataset compatible with machine learning algorithms.)\n",
    "\n",
    "Find all the missing values in the dataset now.\n",
    "\n",
    "*Sample Output*:\n",
    "\n",
    ">               Manufacturer    Model     Type       Price\n",
    ">     58        Mercedes-Benz   300E      Midsize    61.9"
   ]
  },
  {
   "cell_type": "code",
   "execution_count": null,
   "metadata": {},
   "outputs": [],
   "source": [
    "# INSERT CODE HERE"
   ]
  },
  {
   "cell_type": "markdown",
   "metadata": {},
   "source": [
    "**Q.9** Normally, we'd need to take a closer look at each column containing `null` values before deciding what to do with them. But for the purpose of this notebook, let's just assume we want to get rid of them!\n",
    "\n",
    "If you ran the above cell correctly, it should show that the `'Model'` column only has one missing value. We shouldn't miss this one too much. **Drop this row now.** Then, check to see how many missing values are in that column.\n",
    "\n",
    "*Hint: If your code still shows 1 missing value in `'Model'`, try using `inplace`!*\n",
    "\n",
    "*Output:*\n",
    "\n",
    "> `# Shape of the dataframe with the missing value 'Model' row gone`\n",
    "\n",
    "> (92, 27)"
   ]
  },
  {
   "cell_type": "code",
   "execution_count": null,
   "metadata": {},
   "outputs": [],
   "source": [
    "# Q.9 Drop the row that has a missing value in the `Model` column.\n",
    "\n",
    "# INSERT CODE HERE\n",
    "\n",
    "# check the shape of the dataframe; there should be 92 rows\n",
    "cars_df.shape"
   ]
  },
  {
   "cell_type": "code",
   "execution_count": null,
   "metadata": {},
   "outputs": [],
   "source": [
    "# Q.9-1 Check that the missing value from `Model` was removed. Recall what you did in Q.8.\n",
    "\n",
    "# INSERT CODE HERE"
   ]
  },
  {
   "cell_type": "markdown",
   "metadata": {},
   "source": [
    "**Q.10** We can drop entire rows as well. Again, in real life we'd want to investigate before doing this. But this is just for practice! So let's try it out.\n",
    "\n",
    "If you ran the Q.8 code cell correctly, you should see that the column `'Luggage.room'` has 19 missing values. That's way more than any other column of the dataset!\n",
    "\n",
    "Get rid of this column now.\n",
    "\n",
    "*Output:*\n",
    "\n",
    "> `# Shape of the dataframe with \"Luggage.room\" gone`\n",
    "\n",
    "> (92, 26)"
   ]
  },
  {
   "cell_type": "code",
   "execution_count": null,
   "metadata": {
    "scrolled": true
   },
   "outputs": [],
   "source": [
    "# INSERT CODE HERE"
   ]
  },
  {
   "cell_type": "markdown",
   "metadata": {},
   "source": [
    "**Q.11** Instead of dropping null values, what if we wanted to replace them instead? Called *imputation*, this can be a useful solution if we don't want to drop null observations, or if doing so would reduce our dataset by a significant size.\n",
    "\n",
    "Let's practice simple mean imputation next. Replace the missing values in the `Min.Price` and `Max.Price` columns with their respective means.\n",
    "\n",
    "*Hint: What output did `.describe()` return to you?*\n",
    "\n",
    "*Output:*\n",
    "\n",
    "> `> cars_df['Min.Price'].isna().any()`\n",
    "\n",
    "> False"
   ]
  },
  {
   "cell_type": "code",
   "execution_count": null,
   "metadata": {},
   "outputs": [],
   "source": [
    "# Run this code cell to check that there are null values; should return `True`\n",
    "\n",
    "cars_df[['Min.Price', 'Max.Price']].isna().any()"
   ]
  },
  {
   "cell_type": "code",
   "execution_count": null,
   "metadata": {},
   "outputs": [],
   "source": [
    "# INSERT CODE HERE"
   ]
  },
  {
   "cell_type": "code",
   "execution_count": null,
   "metadata": {},
   "outputs": [],
   "source": [
    "# Run this code cell to check that all null values have been removed; should return `False`\n",
    "\n",
    "cars_df[['Min.Price', 'Max.Price']].isna().any()"
   ]
  },
  {
   "cell_type": "markdown",
   "metadata": {},
   "source": [
    "**Q.12** Another transformation we might want to perform is **standardization.** This means that all values are **normalized** to have a mean of 0 and a standard deviation of 1, and **scaled** to be in the inclusive range of 0 to 1.\n",
    "\n",
    "Don't worry too much about why we need to do this yet! It will help us build better predictive models in the future.\n",
    "\n",
    "For now, try to standardize the values of any numeric column in the Cars93 dataframe. The numeric columns have been pulled out for you and saved as `numeric_cars_df`.\n",
    "\n",
    "0. **First, fill any missing values with the column mean.**\n",
    "1. **Then, normalize all columns in the dataframe.**\n",
    "2. **Finally, scale all values to be between 0 and 1.**\n",
    "\n",
    "*Hint: You can normalize data by subtracting the mean and dividing by the standard deviation.*\n",
    "\n",
    "*You can scale the data by subtracting it from the max, and dividing by the range `max - min`.*\n",
    "\n",
    "*Sample Output:*\n",
    "\n",
    "> `# First few columns of the first few rows`\n",
    "\n",
    ">           Min.Price   Price      Max.Price\n",
    ">     0     0.84        0.84       0.85       ...\n",
    ">     1     0.42        0.51       0.57       ...\n",
    ">     ..."
   ]
  },
  {
   "cell_type": "code",
   "execution_count": null,
   "metadata": {},
   "outputs": [],
   "source": [
    "# Run this code cell to pull out all numeric columns of the dataframe and check that they are not standardized.\n",
    "numeric_cars_df = cars_df[list(cars_df.mean().keys())]\n",
    "\n",
    "numeric_cars_df.head()"
   ]
  },
  {
   "cell_type": "code",
   "execution_count": null,
   "metadata": {},
   "outputs": [],
   "source": [
    "# Q12.0 Fill in all missing values with the column mean.\n",
    "\n",
    "# INSERT CODE HERE"
   ]
  },
  {
   "cell_type": "code",
   "execution_count": null,
   "metadata": {},
   "outputs": [],
   "source": [
    "# Q12.1 Normalize the data (subtract the mean and divide by the standard deviation).\n",
    "\n",
    "# INSERT CODE HERE"
   ]
  },
  {
   "cell_type": "code",
   "execution_count": null,
   "metadata": {},
   "outputs": [],
   "source": [
    "# Q12.2 Scale the data between 0 and 1 (subtract it from the max, and divide by the range).\n",
    "\n",
    "# INSERT CODE HERE\n",
    "\n",
    "# check that the data is now standardized\n",
    "numeric_cars_df.head()"
   ]
  },
  {
   "cell_type": "markdown",
   "metadata": {},
   "source": [
    "**Q.13** One last thing we'll look at is text in dataframes. Frequently, our data will be unstructured, and we'll have to do a bit of cleaning up before we could use it.\n",
    "\n",
    "We've already seen how to transform numeric data (by scaling, normalizing, and imputing or dropping missing values). Now, let's take a quick look at how to deal with textual data.\n",
    "\n",
    "If your data comes in one long string, you might want to split it up across different columns and work with each piece separately. For this exercise, we'll take a column full of strings and split it up into three columns.\n",
    "\n",
    "*Output:*\n",
    "\n",
    ">           No.     Name         Kanji\n",
    ">     0     01      Chiyoda      千代田区\n",
    ">     1     03      Minato       港区\n",
    ">     2     04      Shinjuku     新宿区\n",
    ">     3     09      Shinagawa    品川区"
   ]
  },
  {
   "cell_type": "code",
   "execution_count": null,
   "metadata": {},
   "outputs": [],
   "source": [
    "# Run this code cell to create and view the dataframe.\n",
    "string_dataframe = pd.DataFrame([\"No., Name    Kanji\",\n",
    "\"01, Chiyoda    千代田区\",\n",
    "\"03, Minato    港区\",\n",
    "\"04, Shinjuku    新宿区\",\n",
    "\"09, Shinagawa    品川区\"], columns=['row'])\n",
    "\n",
    "string_dataframe"
   ]
  },
  {
   "cell_type": "code",
   "execution_count": null,
   "metadata": {},
   "outputs": [],
   "source": [
    "# Q.13 Split the text in each row into 3 new columns.\n",
    "\n",
    "# INSERT CODE HERE"
   ]
  },
  {
   "cell_type": "code",
   "execution_count": null,
   "metadata": {},
   "outputs": [],
   "source": [
    "# If necessary, rename the columns and reset the index. Otherwise, run this code cell to view your dataframe.\n",
    "\n",
    "# INSERT CODE HERE\n",
    "\n",
    "# view the final dataframe\n",
    "\n",
    "string_dataframe"
   ]
  },
  {
   "cell_type": "markdown",
   "metadata": {},
   "source": [
    "## Part 2: Matplotlib\n",
    "\n",
    "`Matplotlib` is one of the most popular data visualization libraries in Python.\n",
    "\n",
    "There are others that you can use, but this is one you'll run into most often, so let's get started!\n",
    "\n",
    "### `matplotlib` Practice\n",
    "\n",
    "For the next part of this lab, you'll be completing short exercises to get you using `matplotlib` to visualize data.\n",
    "\n",
    "The exercises are taken from [Machine Learning Plus](https://www.machinelearningplus.com/plots/matplotlib-tutorial-complete-guide-python-plot-examples/).\n",
    "\n",
    "Feel free to skip around to exercises that challenge you.\n",
    "\n",
    "Good luck!"
   ]
  },
  {
   "cell_type": "markdown",
   "metadata": {},
   "source": [
    "**Q.0** There are always conventions when coding: best practices that most developers will follow, but that aren't *required*. Still, you'll run across them quite often, so it's useful to know them.\n",
    "\n",
    "For `matplotlib`, by convention we usually import the subpackage `matplotlib.pyplot`, and usually as `plt` (to save time when typing).\n",
    "\n",
    "We also add in a magic command that's unique to Jupyter. `%matplotlib inline` will show us our plots as output in the notebook itself.\n",
    "\n",
    "Try running these commands now."
   ]
  },
  {
   "cell_type": "code",
   "execution_count": null,
   "metadata": {},
   "outputs": [],
   "source": [
    "# INSERT CODE HERE"
   ]
  },
  {
   "cell_type": "markdown",
   "metadata": {},
   "source": [
    "**Q.1** Creating plots is as simple as calling `plt.plot()`, followed by `plt.show()`.\n",
    "\n",
    "(`plt.show()` lets us see the plot by itself; otherwise, `matplotlib` will return the plot object as well.)\n",
    "\n",
    "Try it now: plot the list `numbers` below."
   ]
  },
  {
   "cell_type": "code",
   "execution_count": null,
   "metadata": {},
   "outputs": [],
   "source": [
    "numbers = [1,8,5,7,11,19]\n",
    "\n",
    "# INSERT CODE HERE"
   ]
  },
  {
   "cell_type": "markdown",
   "metadata": {},
   "source": [
    "**Q.2** The plot we saw above was created with `matplotlib` default behavior: we got a line drawn for us, and the values for the x-axis were assumed to be the indices of our list.\n",
    "\n",
    "But we can change this default functionality. To do so, we'll need to pass some arguments to `plt.plot()`: our x-values, our y-values, and what kind of *formatting* we'd like the plot to show.\n",
    "\n",
    "The format will be a string of length 3 or 4, with the following characteristics:\n",
    "\n",
    "* first char a **color** (r = red; b = blue; g = green; k = black)\n",
    "* second char a **marker** (* = star; s = square; o = dot; D = diamond)\n",
    "* last 1-2 char(s) a **linestyle** (- = solid; -- = dashed; : = dotted; -. = dash-dot)\n",
    "\n",
    "Note that if you omit the last 1-2 characters (i.e. don't specify a line), you will see a **scatterplot.**\n",
    "\n",
    "Time to play around! Try out different formatting combinations to see what kind of plots you can display. Remember to run `plt.show()` after each plot. A sample has been done for you.\n",
    "\n",
    "*Hint: You can see all colors, markers and linestyles by calling `help(plt.plot)`.*"
   ]
  },
  {
   "cell_type": "code",
   "execution_count": 4,
   "metadata": {},
   "outputs": [],
   "source": [
    "x_vals = [1,2,3,4,5]\n",
    "y_vals = [1,2,3,4,10]"
   ]
  },
  {
   "cell_type": "code",
   "execution_count": null,
   "metadata": {},
   "outputs": [],
   "source": [
    "# Q.2: Draw your own plots. Use x_vals and y_vals. Play around with the formatting!\n",
    "\n",
    "# INSERT CODE HERE"
   ]
  },
  {
   "cell_type": "code",
   "execution_count": null,
   "metadata": {},
   "outputs": [],
   "source": [
    "# OPTIONAL: Insert new code cells to draw more plots!\n",
    "\n",
    "# INSERT CODE HERE"
   ]
  },
  {
   "cell_type": "markdown",
   "metadata": {},
   "source": [
    "**Q.3** Let's go back to our **scatterplot**. Remember, we only need to pass a *color* and a *marker* shape for a scatterplot.\n",
    "\n",
    "We want to add a second group of dots to our scatterplot. The data points are given below.\n",
    "\n",
    "To add a second group of data points to a plot, you can just call `plt.show()` twice. Try it now!\n",
    "\n",
    "*Hint: You can see all colors, markers and linestyles by calling `help(plt.plot)`.*"
   ]
  },
  {
   "cell_type": "code",
   "execution_count": null,
   "metadata": {},
   "outputs": [],
   "source": [
    "a_vals = [1,2,3,4,5]\n",
    "b_vals = [2,3,4,5,11]\n",
    "\n",
    "# Q.3: Plot both (x_vals, y_vals) and (a_vals, b_vals) on the same figure.\n",
    "# INSERT CODE HERE"
   ]
  },
  {
   "cell_type": "markdown",
   "metadata": {},
   "source": [
    "**Q.4** Looking good! However, our figure is a bit hard to read. It might help to add some descriptions so we know what we're looking at.\n",
    "\n",
    "Go ahead and **add a title and labels for the x and y axes** to your figure. The *legend* has been provided for you.\n",
    "\n",
    "To label each set of data points, you'll want to add in `label=` to your `plt.plot()` calls.\n",
    "\n",
    "*Hint: It's very simple to do! For instance, to add a title, just call `plt.title()`... Can you figure out the rest?*"
   ]
  },
  {
   "cell_type": "code",
   "execution_count": null,
   "metadata": {},
   "outputs": [],
   "source": [
    "# Q.4 Fill in the strings below to add features to your plots.\n",
    "plt.plot(x_vals, y_vals, '', label=\"\")\n",
    "plt.plot(a_vals, b_vals, '', label=\"\")\n",
    "\n",
    "plt.title(\"\")\n",
    "plt.xlabel('')\n",
    "plt.ylabel('')\n",
    "plt.legend(loc='best')\n",
    "plt.show()"
   ]
  },
  {
   "cell_type": "markdown",
   "metadata": {},
   "source": [
    "**Q.5** Getting there! Just one thing... The plot looks a little small :(\n",
    "\n",
    "Maybe we can size it up? To do this, we'll need to make use of `plt.figure()`.\n",
    "\n",
    "A **figure** is like a big canvas that holds your plot. Just like this Jupyter notebook can hold one cell or many cells, a `matplotlib` figure can hold one plot, or many plots. For now, we just have one.\n",
    "\n",
    "If we want to see a bigger plot, then we have to make the canvas on which it's drawn bigger.\n",
    "\n",
    "Use `plt.figure()` and pass the argument `figsize=` to set the width and height of the canvas. `figsize=` takes a tuple `(width, height)` as an argument.\n",
    "\n",
    "*Note: `plt.figure()` should be called BEFORE you call your plots. You need to set the size of your canvas before you start to draw! After setting the size, you can copy and paste your code from above to redraw your plots.*"
   ]
  },
  {
   "cell_type": "code",
   "execution_count": null,
   "metadata": {},
   "outputs": [],
   "source": [
    "# Q.5 Use `figsize=` to set the size of the canvas. Then, copy your code from the cell block above.\n",
    "plt.figure()\n",
    "\n",
    "# INSERT CODE HERE"
   ]
  },
  {
   "cell_type": "markdown",
   "metadata": {},
   "source": [
    "**Q.5** Much better!\n",
    "\n",
    "Now, what if we don't like seeing these two lines right on top of each other? We could split our canvas into two parts using `plt.subplots()`, and place one plot on each."
   ]
  },
  {
   "cell_type": "code",
   "execution_count": 5,
   "metadata": {},
   "outputs": [],
   "source": [
    "import matplotlib.pyplot as plt"
   ]
  },
  {
   "cell_type": "code",
   "execution_count": 6,
   "metadata": {},
   "outputs": [
    {
     "data": {
      "image/png": "[encoded data removed]",
      "text/plain": [
       "<Figure size 720x360 with 4 Axes>"
      ]
     },
     "metadata": {
      "needs_background": "light"
     },
     "output_type": "display_data"
    }
   ],
   "source": [
    "fig, (plot1, plot2) = plt.subplots(2,2, figsize=(10,5), sharey=True)"
   ]
  },
  {
   "cell_type": "markdown",
   "metadata": {},
   "source": [
    "First, we'll assign the output of our function to `fig, (plot1, plot2)`. The tuple represents the name that you'll use to reference each plot on the canvas. You can choose them freely.\n",
    "\n",
    "The first argument to `plt.subplots()` tells us how many plots we want on the canvas. `1, 2` will tell it to create one row with 2 plots on that row (a 1 x 2 canvas). `2, 2` will create two rows with 2 plots on each row (a 2 x 2 canvas).\n",
    "\n",
    "`figsize=` is the same as you used above; it tells us how wide and tall each plot should be. `sharey=` means that the plots will all share the same y axis; if set to `False`, each plot will get its own axis.\n",
    "\n",
    "You can also pass `dpi=` to determine the number of *dots per inch*, or how sharp, crisp and clear your plots should look.\n",
    "\n",
    "One final thing: Now that you have many different plots, it won't make sense to call `plt.plot()`. That function works on the default figure. Instead, **you should reference each specific plot by name** (the ones you declared in your assignment statement) and use the equivalent subcommands (i.e. `.set_title()`, `.set_ylabel`) on each plot.\n",
    "\n",
    "Phew! That sounds like a lot to remmeber, but don't worry: you've already practiced these commands on a one-plot canvas. Now, you only need to modify them slightly to get them to work on multiple plots.\n",
    "\n",
    "**As always, the best way to learn is to practice, so get started!**\n",
    "\n",
    "Here are some steps to try:\n",
    "\n",
    "0. Create your canvas using `fig, (plot, plot2) = plt.subplots(...)` and name your plots\n",
    "1. Plot your data as normal, using `plot1.plot()` and `plot2.plot()`\n",
    "2. Label your graphs using `plot1.set_title()`, `plot2.set_ylabel`, etc.\n",
    "3. Show your plots using `plt.show()"
   ]
  },
  {
   "cell_type": "code",
   "execution_count": null,
   "metadata": {},
   "outputs": [],
   "source": [
    "# Q5.0 Create the canvas and name your plots.\n",
    "fig, (,) = # INSERT CODE HERE\n",
    "\n",
    "# Q5.1 Plot your data as normal. Call each plot by name, i.e. plot1.plot().\n",
    "# INSERT CODE HERE\n",
    "\n",
    "# Q5.2 Give your plots a title and label the axes. Use `.set_title()`, `.set_xlabel`, `.set_ylabel` for each plot.\n",
    "# INSERT CODE HERE\n",
    "\n",
    "plt.show()"
   ]
  },
  {
   "cell_type": "markdown",
   "metadata": {},
   "source": [
    "**Q.6** Lookin' real nice! But man, that was a lot of typing wasn't it?\n",
    "\n",
    "You'll be pleased to know that Python has a way of making things more Pythonic, even for plotting graphs.\n",
    "\n",
    "Instead of setting each component individually, you can pass them all to `plot1.set(...)` or `plot2.set(...)`.\n",
    "\n",
    "Let's see how much faster this works. Fill in the missing data below."
   ]
  },
  {
   "cell_type": "code",
   "execution_count": null,
   "metadata": {},
   "outputs": [],
   "source": [
    "# create canvas and name plots\n",
    "fig, (plot1, plot2) = plt.subplots(1, 2, figsize=(10,5), sharey=True, dpi=500)\n",
    "\n",
    "# plot data\n",
    "plot1.plot(x_vals, y_vals, 'r*-.') # RedStar\n",
    "plot2.plot(a_vals, b_vals, 'cD-') # CyanoLine\n",
    "\n",
    "# Q.6 Set plot features for the above plots. Set them all at once: pass `title`, `xlabel` and `ylabel` as arguments.\n",
    "plot1.set()\n",
    "plot2.set()\n",
    "\n",
    "plt.show()"
   ]
  },
  {
   "cell_type": "markdown",
   "metadata": {},
   "source": [
    "**Q.7** Alright! We've got our plots all finished up. The last thing we might want to do is save the plot for use in other applications.\n",
    "\n",
    "Doing so is really simple: just call `plt.savefig()` (instead of `plt.show()`) and pass in a string containing the name and file extension (JPG or PNG) for your chart. You can also choose whether or not you want the chart to be transparent (set it to `True` if yes) and how many *dots per inch* you want to make the image sharp.\n",
    "\n",
    "The image will default to your current directory if you don't specify a filepath.\n",
    "\n",
    "Go ahead and save your hard work now!\n",
    "\n",
    "*Hint: Don't see an image? Did you try calling `plt.savefig()` before or instead of `plt.show()`?*"
   ]
  },
  {
   "cell_type": "code",
   "execution_count": null,
   "metadata": {
    "scrolled": true
   },
   "outputs": [],
   "source": [
    "# Q.7 Choose any plot you've created above to save. Copy and paste the code below. Then, save the figure.\n",
    "\n",
    "# INSERT CODE HERE"
   ]
  },
  {
   "cell_type": "markdown",
   "metadata": {},
   "source": [
    "**Bonus:** There is so much one can do with `matplotlib` that a simple intro like this couldn't possibly cover everything. To get a taste of what you can do, check out the code cell below to see some other kinds of plots (courtesy of [Machine Learning Plus](https://www.machinelearningplus.com/plots/matplotlib-tutorial-complete-guide-python-plot-examples/)), then feel free to dive in on your own!"
   ]
  },
  {
   "cell_type": "code",
   "execution_count": 7,
   "metadata": {},
   "outputs": [
    {
     "data": {
      "image/png": "[encoded data removed]",
      "text/plain": [
       "<Figure size 720x360 with 7 Axes>"
      ]
     },
     "metadata": {
      "needs_background": "light"
     },
     "output_type": "display_data"
    }
   ],
   "source": [
    "import pandas as pd\n",
    "import numpy as np\n",
    "\n",
    "# Setup the subplot2grid Layout\n",
    "fig = plt.figure(figsize=(10, 5))\n",
    "ax1 = plt.subplot2grid((2,4), (0,0)) \n",
    "ax2 = plt.subplot2grid((2,4), (0,1)) \n",
    "ax3 = plt.subplot2grid((2,4), (0,2)) \n",
    "ax4 = plt.subplot2grid((2,4), (0,3)) \n",
    "ax5 = plt.subplot2grid((2,4), (1,0), colspan=2) \n",
    "ax6 = plt.subplot2grid((2,4), (1,2)) \n",
    "ax7 = plt.subplot2grid((2,4), (1,3)) \n",
    "\n",
    "# Input Arrays\n",
    "n = np.array([0,1,2,3,4,5])\n",
    "x = np.linspace(0,5,10)\n",
    "xx = np.linspace(-0.75, 1., 100)\n",
    "\n",
    "# Scatterplot\n",
    "ax1.scatter(xx, xx + np.random.randn(len(xx)))\n",
    "ax1.set_title(\"Scatter Plot\")\n",
    "\n",
    "# Step Chart\n",
    "ax2.step(n, n**2, lw=2)\n",
    "ax2.set_title(\"Step Plot\")\n",
    "\n",
    "# Bar Chart\n",
    "ax3.bar(n, n**2, align=\"center\", width=0.5, alpha=0.5)\n",
    "ax3.set_title(\"Bar Chart\")\n",
    "\n",
    "# Fill Between\n",
    "ax4.fill_between(x, x**2, x**3, color=\"steelblue\", alpha=0.5);\n",
    "ax4.set_title(\"Fill Between\");\n",
    "\n",
    "# Time Series\n",
    "dates = pd.date_range('2018-01-01', periods = len(xx))\n",
    "ax5.plot(dates, xx + np.random.randn(len(xx)))\n",
    "ax5.set_xticks(dates[::30])\n",
    "ax5.set_xticklabels(dates.strftime('%Y-%m-%d')[::30])\n",
    "ax5.set_title(\"Time Series\")\n",
    "\n",
    "# Box Plot\n",
    "ax6.boxplot(np.random.randn(len(xx)))\n",
    "ax6.set_title(\"Box Plot\")\n",
    "\n",
    "# Histogram\n",
    "ax7.hist(xx + np.random.randn(len(xx)))\n",
    "ax7.set_title(\"Histogram\")\n",
    "\n",
    "fig.tight_layout()"
   ]
  },
  {
   "cell_type": "code",
   "execution_count": null,
   "metadata": {},
   "outputs": [],
   "source": []
  }
 ],
 "metadata": {
  "kernelspec": {
   "display_name": "Python 3",
   "language": "python",
   "name": "python3"
  },
  "language_info": {
   "codemirror_mode": {
    "name": "ipython",
    "version": 3
   },
   "file_extension": ".py",
   "mimetype": "text/x-python",
   "name": "python",
   "nbconvert_exporter": "python",
   "pygments_lexer": "ipython3",
   "version": "3.7.1"
  }
 },
 "nbformat": 4,
 "nbformat_minor": 2
}
