{
 "cells": [
  {
   "cell_type": "markdown",
   "metadata": {},
   "source": [
    "# Week 02 Coding: Intro to Python\n",
    "\n",
    "## BEENOS Inc. Machine Learning Study Group\n",
    "\n",
    "In this first week, you'll determine whether your environment is properly setup for machine learning projects in Python."
   ]
  },
  {
   "cell_type": "markdown",
   "metadata": {},
   "source": [
    "## Part 1: Python\n",
    "\n",
    "[intro to what Python is, and why we use it]\n",
    "\n",
    "[what they'll be doing in this section]\n"
   ]
  },
  {
   "cell_type": "markdown",
   "metadata": {},
   "source": [
    "- hello world\n",
    "- strings\n",
    "- variables and assignment\n",
    "- data types\n",
    "- collections (slicing, indexing)\n",
    "- control flow (if/elif/else)\n",
    "- loops (for and while)\n",
    "- functions (define and call)\n",
    "- import modules (import numpy, which you'll use in next section)\n",
    "\n",
    "https://www.stavros.io/tutorials/python/\n",
    "\n",
    "https://medium.com/@peterjaberau/learn-python-in-5-minutes-b10bf6e2cdb9\n",
    "\n",
    "EXERCISES: https://www.practicepython.org/ or https://www.w3resource.com/python-exercises/"
   ]
  },
  {
   "cell_type": "markdown",
   "metadata": {},
   "source": [
    "## Part 2: Numpy\n",
    "\n",
    "[intro to what numpy is, and why we use it]\n",
    "\n",
    "[what they'll be doing in this section]"
   ]
  },
  {
   "cell_type": "markdown",
   "metadata": {},
   "source": [
    "- arrays\n",
    "- creating\n",
    "- indexing\n",
    "- datatypes\n",
    "- math\n",
    "- broadcasting\n",
    "\n",
    "http://cs231n.github.io/python-numpy-tutorial/\n",
    "\n",
    "EXERCISES: https://www.machinelearningplus.com/python/101-numpy-exercises-python/"
   ]
  },
  {
   "cell_type": "markdown",
   "metadata": {},
   "source": [
    "## Part 3: Pandas\n",
    "\n",
    "[intro to what pandas is, and why we use it]\n",
    "\n",
    "[what they'll be doing in this section]"
   ]
  },
  {
   "cell_type": "markdown",
   "metadata": {},
   "source": [
    "- create/read df\n",
    "- describe\n",
    "- summary\n",
    "- indexing (loc, iloc)\n",
    "- sorting\n",
    "- groupby/agg\n",
    "- transposing\n",
    "\n",
    "From MLM:\n",
    "```python\n",
    "import numpy\n",
    "import pandas\n",
    "myarray = numpy.array([[1, 2, 3], [4, 5, 6]])\n",
    "rownames = ['a', 'b']\n",
    "colnames = ['one', 'two', 'three']\n",
    "mydataframe = pandas.DataFrame(myarray, index=rownames, columns=colnames)\n",
    "print(mydataframe)\n",
    "```\n",
    "\n",
    "EXERCISES: https://www.machinelearningplus.com/python/101-pandas-exercises-python/"
   ]
  },
  {
   "cell_type": "markdown",
   "metadata": {},
   "source": [
    "## Part 4: Matplotlib\n",
    "\n",
    "[intro to what matplotlib is, and why we use it]\n",
    "\n",
    "[what they'll be doing in this section]"
   ]
  },
  {
   "cell_type": "markdown",
   "metadata": {},
   "source": [
    "- draw simple plot\n",
    "- create multiple subplots\n",
    "- piechart\n",
    "- histogram\n",
    "- bar plot\n",
    "- saving a plot\n",
    "\n",
    "https://jakevdp.github.io/PythonDataScienceHandbook/04.00-introduction-to-matplotlib.html\n",
    "\n",
    "https://heartbeat.fritz.ai/introduction-to-matplotlib-data-visualization-in-python-d9143287ae39\n",
    "\n",
    "https://www.tutorialdocs.com/article/python-matplotlib-tutorial.html\n",
    "\n",
    "EXERCISES: https://www.w3resource.com/graphics/matplotlib/"
   ]
  }
 ],
 "metadata": {
  "kernelspec": {
   "display_name": "Python 3",
   "language": "python",
   "name": "python3"
  },
  "language_info": {
   "codemirror_mode": {
    "name": "ipython",
    "version": 3
   },
   "file_extension": ".py",
   "mimetype": "text/x-python",
   "name": "python",
   "nbconvert_exporter": "python",
   "pygments_lexer": "ipython3",
   "version": "3.7.1"
  }
 },
 "nbformat": 4,
 "nbformat_minor": 2
}
