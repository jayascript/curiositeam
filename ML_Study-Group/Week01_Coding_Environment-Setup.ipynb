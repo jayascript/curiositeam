{
 "cells": [
  {
   "cell_type": "markdown",
   "metadata": {},
   "source": [
    "# Week 01: Environment Setup\n",
    "\n",
    "## BEENOS Inc. Machine Learning Study Group\n",
    "\n",
    "In this first week, you'll determine whether your environment is properly setup for machine learning projects in Python."
   ]
  },
  {
   "cell_type": "markdown",
   "metadata": {},
   "source": [
    "## Part 1: Which Python?\n",
    "\n",
    "It's up to you to choose how to set up your Python machine learning environment.\n",
    "\n",
    "Do you want a quick installation, with everything done for you? Then go with **Anaconda**. This is a great choice if you're an absolute beginner, or if you're not sure what libraries you will or won't need.\n",
    "\n",
    "If you go with Anaconda, you'll need lots of disk space to install all the libraries that come with it. (*Miniconda* is a slimmed-down alternative for those who don't want to bloat their system with lots of packages.)\n",
    "\n",
    "Do you prefer to install just what you need, or need to have more control over your system? Then you can [download **Python** from the official homepage](https://www.python.org/) and install it directly.\n",
    "\n",
    "When you install Python on your own, you won't get many of the popular machine learning libraries that come with Anaconda. You'll have to install those separately. You'll also need a good *virtual environment* manager to help keep your projects separate. Anaconda comes pre-installed with this functionality.\n",
    "\n",
    "In this notebook, we'll focus on **installing Anaconda.**"
   ]
  },
  {
   "cell_type": "markdown",
   "metadata": {},
   "source": [
    "### Anaconda: Out-of-the-Box Data Science\n",
    "\n",
    "Anaconda is a Python (and R) distribution that aims to give you everything you need to start doing data science immediately. With Anaconda, you get:\n",
    "\n",
    "* the full Python scientific stack\n",
    "* easy installation of new packages\n",
    "* environment management, separate from sys Python\n",
    "\n",
    "This is super useful for those new to scientific computing in Python. Anaconda lets you get up and running with machine learning libraries in no time."
   ]
  },
  {
   "cell_type": "markdown",
   "metadata": {},
   "source": [
    "### Step 1: Install Anaconda\n",
    "\n",
    "[Click here to download the latest Anaconda distribution.](https://www.anaconda.com/distribution/)\n",
    "\n",
    "You can download the command line installer or the graphical installer. **I highly encourage you to use the latest version of Python 3.** As of this writing, that's Python 3.7.\n",
    "\n",
    "Once the file is downloaded, run the installer. Then, execute the following code cell to check that conda has been properly installed."
   ]
  },
  {
   "cell_type": "code",
   "execution_count": 13,
   "metadata": {},
   "outputs": [
    {
     "name": "stdout",
     "output_type": "stream",
     "text": [
      "/Users/montgomery_j/anaconda3/bin/conda\n",
      "/Users/montgomery_j/anaconda3/bin/python\n"
     ]
    }
   ],
   "source": [
    "# Exercise 0: Run this code cell.\n",
    "#===============================#\n",
    "\n",
    "! which conda\n",
    "! which python"
   ]
  },
  {
   "cell_type": "markdown",
   "metadata": {},
   "source": [
    "The above commands should show you where conda and Python are installed on your system.\n",
    "\n",
    "You can also check their versions:"
   ]
  },
  {
   "cell_type": "code",
   "execution_count": 14,
   "metadata": {},
   "outputs": [
    {
     "name": "stdout",
     "output_type": "stream",
     "text": [
      "conda 4.6.14\n",
      "Python 3.7.1\n"
     ]
    }
   ],
   "source": [
    "# Exercise 1: Run this code cell.\n",
    "#===============================#\n",
    "\n",
    "! conda --version\n",
    "! python --version"
   ]
  },
  {
   "cell_type": "markdown",
   "metadata": {},
   "source": [
    "If the above commands show an error, then you need to debug your system. **Don't move forward until you can get them running properly!** Doing so will only frustrate you down the road."
   ]
  },
  {
   "cell_type": "markdown",
   "metadata": {},
   "source": [
    "### Step 2: Install Libraries\n",
    "\n",
    "To do machine learning in Python, you'll need libraries from the Python scientific stack. This includes (but is not limited to):\n",
    "\n",
    "* iPython/Jupyter\n",
    "* SciPy\n",
    "* Numpy\n",
    "* Pandas\n",
    "* Matplotlib\n",
    "* scikit-learn\n",
    "\n",
    "...and many more!\n",
    "\n",
    "The good news is, if you're using Anaconda, most of these libraries should already be in your system.\n",
    "\n",
    "You can use `conda list` to see all the packages that are currently installed, but it can be a bit time-consuming to scroll through and check them all manually.\n",
    "\n",
    "Instead, you can ask conda to search for a specific package by passing its name."
   ]
  },
  {
   "cell_type": "code",
   "execution_count": 23,
   "metadata": {
    "scrolled": true
   },
   "outputs": [
    {
     "name": "stdout",
     "output_type": "stream",
     "text": [
      "# packages in environment at /Users/montgomery_j/anaconda3:\r\n",
      "#\r\n",
      "# Name                    Version                   Build  Channel\r\n",
      "pandas                    0.23.4           py37h6440ff4_0  \r\n"
     ]
    }
   ],
   "source": [
    "# Exercise 2: Run this code cell to check if pandas is installed.\n",
    "#===============================================================#\n",
    "\n",
    "! conda list pandas"
   ]
  },
  {
   "cell_type": "markdown",
   "metadata": {},
   "source": [
    "The above code cell should show where `pandas` is installed on your system.\n",
    "\n",
    "If pandas isn't installed, you should see an empty row, like this:"
   ]
  },
  {
   "cell_type": "code",
   "execution_count": 27,
   "metadata": {},
   "outputs": [
    {
     "name": "stdout",
     "output_type": "stream",
     "text": [
      "# packages in environment at /Users/montgomery_j/anaconda3:\r\n",
      "#\r\n",
      "# Name                    Version                   Build  Channel\r\n"
     ]
    }
   ],
   "source": [
    "# conda doesn't return this package, because it's not installed\n",
    "\n",
    "! conda list i_dont_exist"
   ]
  },
  {
   "cell_type": "code",
   "execution_count": 32,
   "metadata": {
    "scrolled": true
   },
   "outputs": [
    {
     "name": "stdout",
     "output_type": "stream",
     "text": [
      "# packages in environment at /Users/montgomery_j/anaconda3:\n",
      "#\n",
      "# Name                    Version                   Build  Channel\n",
      "numpy                     1.15.4           py37hacdab7b_0  \n",
      "numpy-base                1.15.4           py37h6575580_0  \n",
      "numpydoc                  0.8.0                    py37_0  \n",
      "# packages in environment at /Users/montgomery_j/anaconda3:\n",
      "#\n",
      "# Name                    Version                   Build  Channel\n",
      "scipy                     1.1.0            py37h1410ff5_2  \n",
      "# packages in environment at /Users/montgomery_j/anaconda3:\n",
      "#\n",
      "# Name                    Version                   Build  Channel\n",
      "jupyter                   1.0.0                    py37_7  \n",
      "jupyter_client            5.2.4                    py37_0  \n",
      "jupyter_console           6.0.0                    py37_0  \n",
      "jupyter_core              4.4.0                    py37_0  \n",
      "jupyterlab                0.35.3                   py37_0  \n",
      "jupyterlab_server         0.2.0                    py37_0  \n",
      "# packages in environment at /Users/montgomery_j/anaconda3:\n",
      "#\n",
      "# Name                    Version                   Build  Channel\n",
      "matplotlib                3.0.2            py37h54f8f79_0  \n",
      "# packages in environment at /Users/montgomery_j/anaconda3:\n",
      "#\n",
      "# Name                    Version                   Build  Channel\n",
      "scikit-learn              0.20.1           py37h27c97d8_0  \n"
     ]
    }
   ],
   "source": [
    "# Exercise 3: Run this code cell to check the rest of the scientific stack.\n",
    "#=========================================================================#\n",
    "\n",
    "! conda list numpy \n",
    "! conda list scipy\n",
    "! conda list jupyter\n",
    "! conda list matplotlib\n",
    "! conda list scikit-learn"
   ]
  },
  {
   "cell_type": "markdown",
   "metadata": {},
   "source": [
    "If you don't see a package listed in the output above, then that means you need to install it.\n",
    "\n",
    "#### Exercise 4 (Optional): Go to the terminal and use `conda install <package_name>` to insall any missing packages."
   ]
  },
  {
   "cell_type": "markdown",
   "metadata": {},
   "source": [
    "### Step 3: Update conda\n",
    "\n",
    "There may be updates to conda or Python packages that weren't a part of the distribution you installed. To check this, you can run `conda update conda` and `conda update <package_name>` to check and be sure that you have the latest versions.\n",
    "\n",
    "#### Exercise 5 (Optional): Go to the terminal and run `conda update conda` or `conda update <package_name>` if necessary.\n",
    "\n",
    "**This concludes the Anaconda setup!!** In the future, should you ever need to install or use any new Python library, you can run the commands found in this notebook. (Note that you can still run the traditional `pip install` to get packages that aren't distributed through conda.)"
   ]
  },
  {
   "cell_type": "markdown",
   "metadata": {},
   "source": [
    "### HELP! I'm having trouble!\n",
    "\n",
    "Getting your environment setup properly is one of the most time-consuming parts of the development process.\n",
    "\n",
    "If the above code cells aren't working for you, **stop now and troubleshoot!** Unfortunately, due to the system-specific nature of error messages, I can't tell you how to fix your system. Plus, troubleshooting is part of the job. Head on over to Google, Stack Overflow or Reddit and search for help.\n",
    "\n",
    "**Do not move forward until the above code cells run without errors.**"
   ]
  },
  {
   "cell_type": "markdown",
   "metadata": {},
   "source": [
    "## Part 2: Which environment?\n",
    "\n",
    "It's up to you to choose how to set up your Python machine learning environment.\n",
    "\n",
    "Do you want a quick installation, with everything done for you? Then go with **Anaconda**. This is a great choice if you're an absolute beginner, or if you're not sure what libraries you will or won't need.\n",
    "\n",
    "If you go with Anaconda, you'll need lots of disk space to install all the libraries that come with it. (*Miniconda* is a slimmed-down alternative for those who don't want to bloat their system with lots of packages.)\n",
    "\n",
    "Do you prefer to install just what you need, or need to have more control over your system? Then you can [download **Python** from the official homepage](https://www.python.org/) and install it directly.\n",
    "\n",
    "When you install Python on your own, you won't get many of the popular machine learning libraries that come with Anaconda. You'll have to install those separately. You'll also need a good *virtual environment* manager to help keep your projects separate. Anaconda comes pre-installed with this functionality.\n",
    "\n",
    "In this notebook, we'll focus on **installing Anaconda.**"
   ]
  },
  {
   "cell_type": "code",
   "execution_count": null,
   "metadata": {},
   "outputs": [],
   "source": []
  },
  {
   "cell_type": "code",
   "execution_count": null,
   "metadata": {},
   "outputs": [],
   "source": []
  }
 ],
 "metadata": {
  "kernelspec": {
   "display_name": "Python 3",
   "language": "python",
   "name": "python3"
  },
  "language_info": {
   "codemirror_mode": {
    "name": "ipython",
    "version": 3
   },
   "file_extension": ".py",
   "mimetype": "text/x-python",
   "name": "python",
   "nbconvert_exporter": "python",
   "pygments_lexer": "ipython3",
   "version": "3.7.1"
  }
 },
 "nbformat": 4,
 "nbformat_minor": 2
}
