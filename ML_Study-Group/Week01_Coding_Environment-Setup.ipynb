{
 "cells": [
  {
   "cell_type": "markdown",
   "metadata": {},
   "source": [
    "# Week 01: Environment Setup\n",
    "\n",
    "## BEENOS Inc. Machine Learning Study Group\n",
    "\n",
    "In this first week, you'll determine whether your environment is properly setup for machine learning projects in Python."
   ]
  },
  {
   "cell_type": "markdown",
   "metadata": {},
   "source": [
    "## Part 1: Which Python?\n",
    "\n",
    "It's up to you to choose how to set up your Python machine learning environment.\n",
    "\n",
    "Do you want a quick installation, with everything done for you? Then go with **Anaconda**. This is a great choice if you're an absolute beginner, or if you're not sure what libraries you will or won't need.\n",
    "\n",
    "If you go with Anaconda, you'll need lots of disk space to install all the libraries that come with it. (*Miniconda* is a slimmed-down alternative for those who don't want to bloat their system with lots of packages.)\n",
    "\n",
    "Do you prefer to install just what you need, or need to have more control over your system? Then you can [download **Python** from the official homepage](https://www.python.org/) and install it directly.\n",
    "\n",
    "When you install Python on your own, you won't get many of the popular machine learning libraries that come with Anaconda. You'll have to install those separately. You'll also need a good *virtual environment* manager to help keep your projects separate. Anaconda comes pre-installed with this functionality.\n",
    "\n",
    "In this notebook, we'll focus on **installing Anaconda.**"
   ]
  },
  {
   "cell_type": "markdown",
   "metadata": {},
   "source": [
    "### Anaconda: Out-of-the-Box Data Science\n",
    "\n",
    "Anaconda is a Python (and R) distribution that aims to give you everything you need to start doing data science immediately. With Anaconda, you get:\n",
    "\n",
    "* the full Python scientific stack\n",
    "* easy installation of new packages\n",
    "* environment management, separate from sys Python\n",
    "\n",
    "This is super useful for those new to scientific computing in Python. Anaconda lets you get up and running with machine learning libraries in no time."
   ]
  },
  {
   "cell_type": "markdown",
   "metadata": {},
   "source": [
    "### Step 1: Install Anaconda\n",
    "\n",
    "[Click here to download the latest Anaconda distribution.](https://www.anaconda.com/distribution/)\n",
    "\n",
    "You can download the command line installer or the graphical installer. **I highly encourage you to use the latest version of Python 3.** As of this writing, that's Python 3.7.\n",
    "\n",
    "Once the file is downloaded, run the installer. Then, execute the following code cell to check that conda has been properly installed."
   ]
  },
  {
   "cell_type": "code",
   "execution_count": 1,
   "metadata": {},
   "outputs": [
    {
     "name": "stdout",
     "output_type": "stream",
     "text": [
      "/Users/montgomery_j/anaconda3/bin/conda\r\n"
     ]
    }
   ],
   "source": [
    "! which conda"
   ]
  },
  {
   "cell_type": "code",
   "execution_count": 2,
   "metadata": {},
   "outputs": [
    {
     "name": "stdout",
     "output_type": "stream",
     "text": [
      "/Users/montgomery_j/anaconda3/bin/python\r\n"
     ]
    }
   ],
   "source": [
    "! which python"
   ]
  },
  {
   "cell_type": "markdown",
   "metadata": {},
   "source": [
    "The above commands should show you where conda and Python are installed on your system.\n",
    "\n",
    "You can also check their versions:"
   ]
  },
  {
   "cell_type": "code",
   "execution_count": 4,
   "metadata": {},
   "outputs": [
    {
     "name": "stdout",
     "output_type": "stream",
     "text": [
      "Python 3.7.1\r\n"
     ]
    }
   ],
   "source": [
    "! python --version"
   ]
  },
  {
   "cell_type": "code",
   "execution_count": 6,
   "metadata": {},
   "outputs": [
    {
     "name": "stdout",
     "output_type": "stream",
     "text": [
      "conda 4.6.14\r\n"
     ]
    }
   ],
   "source": [
    "! conda --version"
   ]
  },
  {
   "cell_type": "markdown",
   "metadata": {},
   "source": [
    "If the above commands show an error, then you need to debug your system. **Don't move forward until you can get them running properly!** Doing so will only frustrate you down the road."
   ]
  },
  {
   "cell_type": "markdown",
   "metadata": {},
   "source": [
    "### Step 2: Install Libraries\n",
    "\n",
    "To do machine learning in Python, you'll need "
   ]
  },
  {
   "cell_type": "code",
   "execution_count": 9,
   "metadata": {},
   "outputs": [
    {
     "name": "stdout",
     "output_type": "stream",
     "text": [
      "/bin/sh: scipy: command not found\r\n"
     ]
    }
   ],
   "source": [
    "! scipy --version"
   ]
  }
 ],
 "metadata": {
  "kernelspec": {
   "display_name": "Python 3",
   "language": "python",
   "name": "python3"
  },
  "language_info": {
   "codemirror_mode": {
    "name": "ipython",
    "version": 3
   },
   "file_extension": ".py",
   "mimetype": "text/x-python",
   "name": "python",
   "nbconvert_exporter": "python",
   "pygments_lexer": "ipython3",
   "version": "3.7.1"
  }
 },
 "nbformat": 4,
 "nbformat_minor": 2
}
