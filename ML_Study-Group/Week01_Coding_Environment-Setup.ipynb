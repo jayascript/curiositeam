{
 "cells": [
  {
   "cell_type": "markdown",
   "metadata": {},
   "source": [
    "# Week 01 Coding: Environment Setup\n",
    "\n",
    "## BEENOS Inc. Machine Learning Study Group\n",
    "\n",
    "In this first week, you'll determine whether your environment is properly setup for machine learning projects in Python."
   ]
  },
  {
   "cell_type": "markdown",
   "metadata": {},
   "source": [
    "### How to Use This Notebook\n",
    "\n",
    "If you are viewing this notebook through Binder, you can try to execute the exercise cells directly in your browser. You will see the server's versions of Python, conda, etc. but you may not be able to update any packages. As such, **I highly recommend you open the shell and run these commands on your local machine.** Doing so will ensure the output is specific to your system."
   ]
  },
  {
   "cell_type": "markdown",
   "metadata": {},
   "source": [
    "## Part 1: Which Python?\n",
    "\n",
    "It's up to you to choose how to set up your Python machine learning environment.\n",
    "\n",
    "Do you want a quick installation, with everything done for you? Then go with **Anaconda**. This is a great choice if you're an absolute beginner, or if you're not sure what libraries you will or won't need.\n",
    "\n",
    "If you go with Anaconda, you'll need lots of disk space to install all the libraries that come with it. (*Miniconda* is a slimmed-down alternative for those who don't want to bloat their system with lots of packages.)\n",
    "\n",
    "Do you prefer to install just what you need, or need to have more control over your system? Then you can [download **Python** from the official homepage](https://www.python.org/) and install it directly.\n",
    "\n",
    "When you install Python on your own, you won't get many of the popular machine learning libraries that come with Anaconda. You'll have to install those separately with `pip install`. You'll also need a good *virtual environment* manager to help keep your projects separate. Anaconda comes pre-installed with this functionality."
   ]
  },
  {
   "cell_type": "markdown",
   "metadata": {},
   "source": [
    "### Anaconda: Out-of-the-Box Data Science\n",
    "\n",
    "Anaconda is a Python (and R) distribution that aims to give you everything you need to start doing data science immediately. With Anaconda, you get:\n",
    "\n",
    "* the full Python scientific stack\n",
    "* easy installation of new packages\n",
    "* environment management, separate from sys Python\n",
    "\n",
    "This is super useful for those new to scientific computing in Python. Anaconda lets you get up and running with machine learning libraries in no time."
   ]
  },
  {
   "cell_type": "markdown",
   "metadata": {},
   "source": [
    "### Step 1: Installing Anaconda\n",
    "\n",
    "[Click here to download the latest Anaconda distribution.](https://www.anaconda.com/distribution/)\n",
    "\n",
    "You can download the command line installer or the graphical installer. **I highly encourage you to use the latest version of Python 3.** As of this writing, that's Python 3.7.\n",
    "\n",
    "Once the file is downloaded, run the installer. Then, execute the following code cell to check that conda has been properly installed.\n",
    "\n",
    "#### Exercise 0: Run the following commands in your shell.\n",
    "\n",
    "```python\n",
    "which conda\n",
    "which python\n",
    "```\n",
    "\n",
    "The above commands should show you where conda and Python are installed on your system.\n",
    "\n",
    "You can also check their versions:"
   ]
  },
  {
   "cell_type": "markdown",
   "metadata": {},
   "source": [
    "#### Exercise 1: Run the following commands in your shell.\n",
    "\n",
    "```python\n",
    "conda --version\n",
    "python --version\n",
    "```"
   ]
  },
  {
   "cell_type": "markdown",
   "metadata": {},
   "source": [
    "If the above commands show an error, then you need to troubleshoot your system. Be sure to do this before moving foward.\n",
    "\n",
    "### Step 2: Update conda\n",
    "\n",
    "There may be updates to conda that aren't a part of the distribution you installed. To check this, you can run `conda update conda` to check and be sure that you have the latest version."
   ]
  },
  {
   "cell_type": "markdown",
   "metadata": {},
   "source": [
    "#### Exercise 2: Run the following command in your shell.\n",
    "\n",
    "```python\n",
    "conda update conda\n",
    "```"
   ]
  },
  {
   "cell_type": "markdown",
   "metadata": {},
   "source": [
    "### Step 3: Create a new environment\n",
    "\n",
    "When you start building multiple projects in python, you might find that each one requires a different version of a Python package you have installed. For example, a data analysis tutorial might ask you to install `numpy==1.12.0`, while our study group uses `numpy==1.16.0`.\n",
    "\n",
    "Updating numpy might break the code for your previous installation, and then you can't finish the tutorial!\n",
    "\n",
    "What should you do if you want to use both versions at the same time?\n",
    "\n",
    "This is where **virtual environments** come in. These are isolated Python installations that hold separate versions of libraries and even Python itself.\n",
    "\n",
    "So, in your `curiositeam` environment you can safely install the latest version of numpy, and keep the older version in a separate environment titled `data-tutorial`.\n",
    "\n",
    "Then, you *activate* the environment you need when you're ready to work on a specific project.\n",
    "\n",
    "Creating and managing environments in conda is easy. Simply pass the name of the environment you want to build.\n",
    "\n",
    "#### Exercise 3: Create a virtual environment for this study group. Replace `[my_env]` with your desired name.\n",
    "\n",
    "```python\n",
    "conda create -n [my_env]\n",
    "```\n",
    "\n",
    "I used `curiositeam` as the name of my environment. You can also pass your preferred version of Python with `python=x.x`, but conda should default to the version included with your distribution.\n",
    "\n",
    "#### Exercise 4: Activate your environment.\n",
    "\n",
    "```python\n",
    "conda activate [my_env]\n",
    "```"
   ]
  },
  {
   "cell_type": "markdown",
   "metadata": {},
   "source": [
    "### Step 4: Install Libraries\n",
    "\n",
    "To do machine learning in Python, you'll need libraries from the Python scientific stack. This includes (but is not limited to):\n",
    "\n",
    "* iPython/Jupyter\n",
    "* SciPy\n",
    "* Numpy\n",
    "* Pandas\n",
    "* Matplotlib\n",
    "* scikit-learn\n",
    "\n",
    "...and many more!\n",
    "\n",
    "The good news is, if you're using Anaconda, most of these libraries should already be in your system.\n",
    "\n",
    "You can use `conda list` to see all the packages that are currently installed, but it can be a bit time-consuming to scroll through and check them all manually.\n",
    "\n",
    "Instead, you can ask conda to search for a specific package by passing its name.\n",
    "\n",
    "#### Exercise 5: Use `conda list [package]` to check and see if your packages are installed.\n",
    "\n",
    "If the package isn't installed, conda should return an empty row, like this:"
   ]
  },
  {
   "cell_type": "code",
   "execution_count": 7,
   "metadata": {
    "scrolled": true
   },
   "outputs": [
    {
     "name": "stdout",
     "output_type": "stream",
     "text": [
      "# packages in environment at /Users/montgomery_j/anaconda3/envs/curiositeam:\r\n",
      "#\r\n",
      "# Name                    Version                   Build  Channel\r\n"
     ]
    }
   ],
   "source": [
    "# conda doesn't return this package, because it's not installed\n",
    "\n",
    "! conda list i_dont_exist"
   ]
  },
  {
   "cell_type": "markdown",
   "metadata": {},
   "source": [
    "If see an empty row when you try to list a package, then that means you need to install it.\n",
    "\n",
    "When you activate your environment for the first time, you may not see any packages installed. You can manually install packages into specific environments using `conda install` and passing the name of the environment you want to install into.\n",
    "\n",
    "#### Exercise 6: Use `conda install -n [my_env] [package]` to insall any missing packages."
   ]
  },
  {
   "cell_type": "markdown",
   "metadata": {},
   "source": [
    "## Ready to go?\n",
    "\n",
    "**This concludes the Anaconda setup!!**\n",
    "\n",
    "When you're all done with your project for now, you can run `conda deactivate` to exit your virtual environment.\n",
    "\n",
    "#### Exercise 7: Run `conda deactivate` to leave your virtual environment.\n",
    "\n",
    "In the future, should you ever need to install or use any new Python library, you can run the commands found in this notebook. (Note that you can still run the traditional `pip install` to get packages that aren't distributed through conda.)"
   ]
  },
  {
   "cell_type": "markdown",
   "metadata": {},
   "source": [
    "### HELP! I'm having trouble!\n",
    "\n",
    "Getting your environment setup properly is one of the most time-consuming parts of the development process.\n",
    "\n",
    "If the above steps aren't working for you, **stop now and troubleshoot!** Unfortunately, due to the system-specific nature of error messages, I can't tell you how to fix your system. Plus, troubleshooting is part of the job. Head on over to Google, Stack Overflow or Reddit and search for help."
   ]
  },
  {
   "cell_type": "markdown",
   "metadata": {},
   "source": [
    "## If you're using `pip`...\n",
    "\n",
    "If you're not using Anaconda, you can still create and manage virtual environments with Python.\n",
    "\n",
    "Real Python has a great tutorial on creating and managing virtual environments in Python. Check it out here:\n",
    "\n",
    "[Python Virtual Environments: A Primer](https://realpython.com/python-virtual-environments-a-primer/)"
   ]
  }
 ],
 "metadata": {
  "kernelspec": {
   "display_name": "Python 3",
   "language": "python",
   "name": "python3"
  },
  "language_info": {
   "codemirror_mode": {
    "name": "ipython",
    "version": 3
   },
   "file_extension": ".py",
   "mimetype": "text/x-python",
   "name": "python",
   "nbconvert_exporter": "python",
   "pygments_lexer": "ipython3",
   "version": "3.7.3"
  }
 },
 "nbformat": 4,
 "nbformat_minor": 2
}
